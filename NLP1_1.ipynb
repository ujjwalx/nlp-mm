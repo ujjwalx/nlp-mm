{
 "cells": [
  {
   "cell_type": "code",
   "execution_count": 135,
   "metadata": {
    "collapsed": false
   },
   "outputs": [],
   "source": [
    "import gensim\n",
    "import numpy\n",
    "import logging\n",
    "import keras\n",
    "from keras.callbacks import ModelCheckpoint\n",
    "from keras.utils import np_utils\n",
    "from keras.models import Sequential\n",
    "from keras.layers import Dense\n",
    "from keras.layers.embeddings import Embedding\n",
    "from keras.preprocessing import sequence\n",
    "#from keras.wrappers.scikit_learn import KerasClassifier\n",
    "from keras.utils import np_utils\n",
    "#from sklearn.model_selection import cross_val_score\n",
    "#from sklearn.model_selection import KFold\n",
    "#from sklearn.preprocessing import LabelEncoder\n",
    "#from sklearn.pipeline import Pipeline\n",
    "from itertools import zip_longest, count\n",
    "import json \n",
    "import nltk\n",
    "from keras.models import Sequential\n",
    "from keras.layers.core import Dense, Activation, Merge, Dropout, Reshape, RepeatVector, Masking\n",
    "from keras.layers.recurrent import LSTM,GRU\n",
    "from collections import Counter\n",
    "from keras.layers.wrappers import TimeDistributed"
   ]
  },
  {
   "cell_type": "code",
   "execution_count": 136,
   "metadata": {
    "collapsed": false
   },
   "outputs": [],
   "source": [
    "# Load Files into Memory.\n",
    "\n",
    "image_features = numpy.load('smaller_merged_train.npy')\n",
    "with open ('smaller_merged_train.json') as f:\n",
    "    image_captions = json.load(f)\n",
    "\n",
    "# Remove this to end fixed testing with 5 data features\n",
    "image_features = image_features[:5]"
   ]
  },
  {
   "cell_type": "code",
   "execution_count": 137,
   "metadata": {
    "collapsed": false
   },
   "outputs": [],
   "source": [
    "# Generates a list containing all sentences appended with start and termination symbols.\n",
    "# select_list contains the selector indexed sentence.\n",
    "\n",
    "input_list = []\n",
    "select_list = []\n",
    "selector = 0\n",
    "for i in range(len(image_captions)):\n",
    "    sent_temp = []\n",
    "    for j in range(len(image_captions[i][1])):\n",
    "        temp = ['<s>']\n",
    "        temp.extend(image_captions[i][1][j])\n",
    "        temp.append(\"</s>\")        \n",
    "        input_list.append(temp)\n",
    "        if (j==selector):\n",
    "            select_list.append(temp)\n",
    "\n",
    "# Remove this to end fixed testing with 5 sentences\n",
    "select_list = select_list[:5]"
   ]
  },
  {
   "cell_type": "code",
   "execution_count": 138,
   "metadata": {
    "collapsed": false
   },
   "outputs": [
    {
     "name": "stdout",
     "output_type": "stream",
     "text": [
      "Size of this Vocabulary is 46\n",
      "Maxlen for this Data is 18 \n"
     ]
    }
   ],
   "source": [
    "# Generation of Dictionary and vocab_size parameter\n",
    "\n",
    "word_dict = []\n",
    "\n",
    "for i in range(len(select_list)):\n",
    "    for j in range(len(select_list[i])):\n",
    "        if (select_list[i][j] not in word_dict):\n",
    "            word_dict.append(select_list[i][j])\n",
    "\n",
    "# Vocab size increased by 1 to avoid 0 as an integer label.\n",
    "\n",
    "vocab_size = len(word_dict) + 1\n",
    "\n",
    "print(\"Size of this Vocabulary is %r\" %vocab_size) \n",
    "\n",
    "#Generation of MAXLEN Parameter            \n",
    "\n",
    "MAXLEN = 0\n",
    "\n",
    "for i in range(len(select_list)):\n",
    "    if (len(select_list[i])>MAXLEN):\n",
    "        MAXLEN = len(select_list[i])\n",
    "\n",
    "print(\"Maxlen for this Data is %r \"%MAXLEN)            \n"
   ]
  },
  {
   "cell_type": "code",
   "execution_count": 139,
   "metadata": {
    "collapsed": false
   },
   "outputs": [],
   "source": [
    "char_labels = {ch:i for i, ch in enumerate(word_dict)}\n",
    "\n",
    "labels_char = {i:ch for i, ch in enumerate(word_dict)}"
   ]
  },
  {
   "cell_type": "code",
   "execution_count": 144,
   "metadata": {
    "collapsed": false
   },
   "outputs": [
    {
     "name": "stdout",
     "output_type": "stream",
     "text": [
      "[['<s>'], ['<s>', 'Two'], ['<s>', 'Two', 'people'], ['<s>', 'Two', 'people', 'in'], ['<s>', 'Two', 'people', 'in', 'dim'], ['<s>', 'Two', 'people', 'in', 'dim', 'lit'], ['<s>', 'Two', 'people', 'in', 'dim', 'lit', 'room'], ['<s>', 'Two', 'people', 'in', 'dim', 'lit', 'room', 'playing'], ['<s>', 'Two', 'people', 'in', 'dim', 'lit', 'room', 'playing', 'Nintendo'], ['<s>'], ['<s>', 'A'], ['<s>', 'A', 'white'], ['<s>', 'A', 'white', 'sink'], ['<s>', 'A', 'white', 'sink', 'sitting'], ['<s>', 'A', 'white', 'sink', 'sitting', 'next'], ['<s>', 'A', 'white', 'sink', 'sitting', 'next', 'to'], ['<s>', 'A', 'white', 'sink', 'sitting', 'next', 'to', 'a'], ['<s>', 'A', 'white', 'sink', 'sitting', 'next', 'to', 'a', 'toilet'], ['<s>', 'A', 'white', 'sink', 'sitting', 'next', 'to', 'a', 'toilet', 'in'], ['<s>', 'A', 'white', 'sink', 'sitting', 'next', 'to', 'a', 'toilet', 'in', 'a'], ['<s>', 'A', 'white', 'sink', 'sitting', 'next', 'to', 'a', 'toilet', 'in', 'a', 'bathroom'], ['<s>', 'A', 'white', 'sink', 'sitting', 'next', 'to', 'a', 'toilet', 'in', 'a', 'bathroom', '.'], ['<s>'], ['<s>', 'The'], ['<s>', 'The', 'man'], ['<s>', 'The', 'man', 'is'], ['<s>', 'The', 'man', 'is', 'paddle'], ['<s>', 'The', 'man', 'is', 'paddle', 'surfing'], ['<s>', 'The', 'man', 'is', 'paddle', 'surfing', 'with'], ['<s>', 'The', 'man', 'is', 'paddle', 'surfing', 'with', 'a'], ['<s>', 'The', 'man', 'is', 'paddle', 'surfing', 'with', 'a', 'broom'], ['<s>', 'The', 'man', 'is', 'paddle', 'surfing', 'with', 'a', 'broom', 'on'], ['<s>', 'The', 'man', 'is', 'paddle', 'surfing', 'with', 'a', 'broom', 'on', 'a'], ['<s>', 'The', 'man', 'is', 'paddle', 'surfing', 'with', 'a', 'broom', 'on', 'a', 'blue'], ['<s>', 'The', 'man', 'is', 'paddle', 'surfing', 'with', 'a', 'broom', 'on', 'a', 'blue', 'surfboard'], ['<s>', 'The', 'man', 'is', 'paddle', 'surfing', 'with', 'a', 'broom', 'on', 'a', 'blue', 'surfboard', 'with'], ['<s>', 'The', 'man', 'is', 'paddle', 'surfing', 'with', 'a', 'broom', 'on', 'a', 'blue', 'surfboard', 'with', 'a'], ['<s>', 'The', 'man', 'is', 'paddle', 'surfing', 'with', 'a', 'broom', 'on', 'a', 'blue', 'surfboard', 'with', 'a', 'dog'], ['<s>', 'The', 'man', 'is', 'paddle', 'surfing', 'with', 'a', 'broom', 'on', 'a', 'blue', 'surfboard', 'with', 'a', 'dog', '.'], ['<s>'], ['<s>', 'A'], ['<s>', 'A', 'bunk'], ['<s>', 'A', 'bunk', 'bed'], ['<s>', 'A', 'bunk', 'bed', 'that'], ['<s>', 'A', 'bunk', 'bed', 'that', 'has'], ['<s>', 'A', 'bunk', 'bed', 'that', 'has', 'three'], ['<s>', 'A', 'bunk', 'bed', 'that', 'has', 'three', 'bunks'], ['<s>', 'A', 'bunk', 'bed', 'that', 'has', 'three', 'bunks', 'in'], ['<s>', 'A', 'bunk', 'bed', 'that', 'has', 'three', 'bunks', 'in', 'it'], ['<s>'], ['<s>', 'Two'], ['<s>', 'Two', 'young'], ['<s>', 'Two', 'young', 'girls'], ['<s>', 'Two', 'young', 'girls', 'are'], ['<s>', 'Two', 'young', 'girls', 'are', 'flying'], ['<s>', 'Two', 'young', 'girls', 'are', 'flying', 'a'], ['<s>', 'Two', 'young', 'girls', 'are', 'flying', 'a', 'kite'], ['<s>', 'Two', 'young', 'girls', 'are', 'flying', 'a', 'kite', 'on'], ['<s>', 'Two', 'young', 'girls', 'are', 'flying', 'a', 'kite', 'on', 'the'], ['<s>', 'Two', 'young', 'girls', 'are', 'flying', 'a', 'kite', 'on', 'the', 'grass'], ['<s>', 'Two', 'young', 'girls', 'are', 'flying', 'a', 'kite', 'on', 'the', 'grass', '.']]\n",
      "(61, 4096)\n",
      "(61, 18)\n",
      "(61, 46)\n"
     ]
    }
   ],
   "source": [
    "# New Awesomeness here!\n",
    "\n",
    "x_train = []\n",
    "y_train = []\n",
    "image_train = []\n",
    "\n",
    "\n",
    "\n",
    "for i in range(len(select_list)):\n",
    "    for j in range(len(select_list[i])):\n",
    "        if (j>0):\n",
    "            x_train.append(select_list[i][:j])\n",
    "            y_train.append(select_list[i][j])\n",
    "            image_train.append(image_features[i])\n",
    "\n",
    "print (x_train)\n",
    "x_train = numpy.asarray(x_train)\n",
    "image_train = numpy.asarray(image_train)\n",
    "\n",
    "\n",
    "# Generation of nb_samples parameter \n",
    "\n",
    "nb_samples = len(x_train)\n",
    "\n",
    "#Convert Streams to their Integer valued counterparts\n",
    "\n",
    "\n",
    "\n",
    "for i in range(len(x_train)):\n",
    "    for j in range(len(x_train[i])):\n",
    "        x_train[i][j] = char_labels[x_train[i][j]] + 1\n",
    "        \n",
    "x_train = numpy.asarray(x_train)\n",
    "\n",
    "\n",
    "x_train = sequence.pad_sequences(x_train,maxlen = MAXLEN, padding = 'post')\n",
    "\n",
    "for i in range(len(y_train)):\n",
    "        y_train[i] = char_labels[y_train[i]] + 1\n",
    "\n",
    "# y_train = sequence.pad_sequences(y_train,maxlen = MAXLEN, padding = 'post')\n",
    "\n",
    "\n",
    "y_out = numpy.zeros((nb_samples,vocab_size))\n",
    "\n",
    "for i in range(len(y_train)):\n",
    "    y_out[i][y_train[i]] = 1\n",
    "\n",
    "y_train = y_out\n",
    "\n",
    "print (image_train.shape)\n",
    "print (x_train.shape)\n",
    "print(y_train.shape)"
   ]
  },
  {
   "cell_type": "code",
   "execution_count": 80,
   "metadata": {
    "collapsed": false
   },
   "outputs": [],
   "source": [
    "\n",
    "\n",
    "\n",
    "\n",
    "\n",
    "# Shite below this line!!!!----------------------------------------------------------------------------------\n",
    "\n",
    "# # Generate Input and Output Streams\n",
    "\n",
    "# x_train = []\n",
    "# y_train = []\n",
    "\n",
    "# for i in range(len(select_list)):\n",
    "#     x_train.append(select_list[i][:-1])\n",
    "#     y_train.append(select_list[i][1:])\n",
    "\n",
    "# x_train = numpy.asarray(x_train)\n",
    "\n",
    "\n",
    "# #Convert Streams to their Integer valued counterparts\n",
    "\n",
    "# for i in range(len(x_train)):\n",
    "#     for j in range(len(x_train[i])):\n",
    "#         x_train[i][j] = char_labels[x_train[i][j]] + 1\n",
    "        \n",
    "# x_train = numpy.asarray(x_train)\n",
    "\n",
    "\n",
    "# x_train = sequence.pad_sequences(x_train,maxlen = MAXLEN, padding = 'post')\n",
    "\n",
    "        \n",
    "# for i in range(len(y_train)):\n",
    "#     for j in range(len(y_train[i])):\n",
    "#         y_train[i][j] = char_labels[y_train[i][j]]\n",
    "        \n",
    "# y_train = sequence.pad_sequences(y_train,maxlen = MAXLEN, padding = 'post')\n",
    "\n",
    "# # Convert Outputs to One-Hot form\n",
    "\n",
    "# y_out = numpy.zeros((nb_samples,MAXLEN,vocab_size))\n",
    "\n",
    "# for i in range(len(y_train)):\n",
    "#     for j in range(len(y_train[i])):\n",
    "#         y_out[i][j][y_train[i][j]] = 1\n",
    "\n",
    "# y_train = y_out\n",
    "\n"
   ]
  },
  {
   "cell_type": "code",
   "execution_count": 193,
   "metadata": {
    "collapsed": false
   },
   "outputs": [],
   "source": [
    "num_hidden_units_mlp = 1024\n",
    "image_model = Sequential()\n",
    "image_model.add(Dense(128,input_dim = 4096))\n",
    "\n",
    "language_model = Sequential()\n",
    "language_model.add(Embedding(vocab_size, 256, input_length=MAXLEN))\n",
    "language_model.add(GRU(output_dim=128, return_sequences=True))\n",
    "language_model.add(TimeDistributed(Dense(128)))\n",
    "\n",
    "image_model.add(RepeatVector(MAXLEN))\n",
    "\n",
    "model = Sequential()\n",
    "model.add(Merge([image_model, language_model], mode='concat', concat_axis=-1))\n",
    "\n",
    "model.add(GRU(256, return_sequences=False))\n",
    "model.add(Dense(vocab_size))\n",
    "model.add(Activation('softmax'))\n",
    "\n",
    "model.compile(loss='categorical_crossentropy', optimizer='rmsprop')\n"
   ]
  },
  {
   "cell_type": "code",
   "execution_count": 194,
   "metadata": {
    "collapsed": true
   },
   "outputs": [],
   "source": [
    "# Keep best weights and save callback history\n",
    "\n",
    "# define the checkpoint\n",
    "\n",
    "filepath=\"weights-improvement-{epoch:02d}-{loss:.4f}.hdf5\"\n",
    "checkpoint = ModelCheckpoint(filepath, monitor='loss', verbose=1, save_best_only=True, mode='min')\n",
    "callbacks_list = [checkpoint]"
   ]
  },
  {
   "cell_type": "code",
   "execution_count": 195,
   "metadata": {
    "collapsed": false
   },
   "outputs": [
    {
     "name": "stdout",
     "output_type": "stream",
     "text": [
      "Epoch 1/40\n",
      "61/61 [==============================] - 4s - loss: 4.6338     \n",
      "Epoch 2/40\n",
      "61/61 [==============================] - 3s - loss: 3.9537     \n",
      "Epoch 3/40\n",
      "61/61 [==============================] - 3s - loss: 3.7213     \n",
      "Epoch 4/40\n",
      "61/61 [==============================] - 3s - loss: 3.6365     \n",
      "Epoch 5/40\n",
      "61/61 [==============================] - 3s - loss: 3.4667     \n",
      "Epoch 6/40\n",
      "61/61 [==============================] - 3s - loss: 3.4591     \n",
      "Epoch 7/40\n",
      "61/61 [==============================] - 3s - loss: 3.3533     \n",
      "Epoch 8/40\n",
      "61/61 [==============================] - 3s - loss: 3.2340     \n",
      "Epoch 9/40\n",
      "61/61 [==============================] - 3s - loss: 3.2033     \n",
      "Epoch 10/40\n",
      "61/61 [==============================] - 3s - loss: 3.0931     \n",
      "Epoch 11/40\n",
      "61/61 [==============================] - 4s - loss: 3.0738     \n",
      "Epoch 12/40\n",
      "61/61 [==============================] - 4s - loss: 3.0728     \n",
      "Epoch 13/40\n",
      "61/61 [==============================] - 4s - loss: 3.0102     \n",
      "Epoch 14/40\n",
      "61/61 [==============================] - 5s - loss: 3.0450     \n",
      "Epoch 15/40\n",
      "61/61 [==============================] - 3s - loss: 2.9437     \n",
      "Epoch 16/40\n",
      "61/61 [==============================] - 3s - loss: 2.9096     \n",
      "Epoch 17/40\n",
      "61/61 [==============================] - 3s - loss: 2.8992     \n",
      "Epoch 18/40\n",
      "61/61 [==============================] - 3s - loss: 2.8949     \n",
      "Epoch 19/40\n",
      "61/61 [==============================] - 3s - loss: 2.8612     \n",
      "Epoch 20/40\n",
      "61/61 [==============================] - 3s - loss: 2.8913     \n",
      "Epoch 21/40\n",
      "61/61 [==============================] - 3s - loss: 2.8718     \n",
      "Epoch 22/40\n",
      "61/61 [==============================] - 3s - loss: 2.9003     \n",
      "Epoch 23/40\n",
      "61/61 [==============================] - 3s - loss: 2.8628     \n",
      "Epoch 24/40\n",
      "61/61 [==============================] - 3s - loss: 2.8378     \n",
      "Epoch 25/40\n",
      "61/61 [==============================] - 3s - loss: 2.8398     \n",
      "Epoch 26/40\n",
      "61/61 [==============================] - 3s - loss: 2.8204     \n",
      "Epoch 27/40\n",
      "61/61 [==============================] - 3s - loss: 2.8170     \n",
      "Epoch 28/40\n",
      "61/61 [==============================] - 3s - loss: 2.9000     \n",
      "Epoch 29/40\n",
      "61/61 [==============================] - 3s - loss: 2.8486     \n",
      "Epoch 30/40\n",
      "61/61 [==============================] - 3s - loss: 2.8436     \n",
      "Epoch 31/40\n",
      "61/61 [==============================] - 3s - loss: 2.8530     \n",
      "Epoch 32/40\n",
      "61/61 [==============================] - 4s - loss: 2.8323     \n",
      "Epoch 33/40\n",
      "61/61 [==============================] - 3s - loss: 2.8480     \n",
      "Epoch 34/40\n",
      "61/61 [==============================] - 3s - loss: 2.8615     \n",
      "Epoch 35/40\n",
      "61/61 [==============================] - 4s - loss: 2.8633     \n",
      "Epoch 36/40\n",
      "61/61 [==============================] - 4s - loss: 2.8276     \n",
      "Epoch 37/40\n",
      "61/61 [==============================] - 3s - loss: 2.8255     \n",
      "Epoch 38/40\n",
      "61/61 [==============================] - 3s - loss: 2.8340     \n",
      "Epoch 39/40\n",
      "61/61 [==============================] - 3s - loss: 2.8295     \n",
      "Epoch 40/40\n",
      "61/61 [==============================] - 3s - loss: 2.8644     \n"
     ]
    },
    {
     "data": {
      "text/plain": [
       "<keras.callbacks.History at 0x7efe621b0240>"
      ]
     },
     "execution_count": 195,
     "metadata": {},
     "output_type": "execute_result"
    }
   ],
   "source": [
    "model.fit([image_train, x_train], y_train, batch_size=1, nb_epoch=40)"
   ]
  },
  {
   "cell_type": "code",
   "execution_count": 196,
   "metadata": {
    "collapsed": false
   },
   "outputs": [
    {
     "name": "stdout",
     "output_type": "stream",
     "text": [
      "7/7 [==============================] - 0s\n",
      "[4 4 4 4 4 4 4]\n"
     ]
    }
   ],
   "source": [
    "x_test = x_train[9:21]\n",
    "image_test = image_train[9:21]\n",
    "\n",
    "\n",
    "# x_test = x_train[:7]\n",
    "# images_test = image_train[:7]\n",
    "\n",
    "# print (x_test)\n",
    "# print (images_test)\n",
    "prediction = model.predict_classes([images_test,x_test])\n",
    "print (prediction)\n"
   ]
  },
  {
   "cell_type": "code",
   "execution_count": null,
   "metadata": {
    "collapsed": true
   },
   "outputs": [],
   "source": []
  },
  {
   "cell_type": "code",
   "execution_count": null,
   "metadata": {
    "collapsed": true
   },
   "outputs": [],
   "source": []
  }
 ],
 "metadata": {
  "anaconda-cloud": {},
  "kernelspec": {
   "display_name": "Python [conda root]",
   "language": "python",
   "name": "conda-root-py"
  },
  "language_info": {
   "codemirror_mode": {
    "name": "ipython",
    "version": 3
   },
   "file_extension": ".py",
   "mimetype": "text/x-python",
   "name": "python",
   "nbconvert_exporter": "python",
   "pygments_lexer": "ipython3",
   "version": "3.5.2"
  }
 },
 "nbformat": 4,
 "nbformat_minor": 1
}
