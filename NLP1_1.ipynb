{
 "cells": [
  {
   "cell_type": "code",
   "execution_count": 2,
   "metadata": {
    "collapsed": false
   },
   "outputs": [
    {
     "name": "stderr",
     "output_type": "stream",
     "text": [
      "Using TensorFlow backend.\n"
     ]
    }
   ],
   "source": [
    "import gensim\n",
    "import numpy\n",
    "import logging\n",
    "import keras\n",
    "from keras.callbacks import ModelCheckpoint\n",
    "from keras.utils import np_utils\n",
    "from keras.models import Sequential\n",
    "from keras.layers import Dense\n",
    "from keras.layers.embeddings import Embedding\n",
    "from keras.preprocessing import sequence\n",
    "#from keras.wrappers.scikit_learn import KerasClassifier\n",
    "from keras.utils import np_utils\n",
    "#from sklearn.model_selection import cross_val_score\n",
    "#from sklearn.model_selection import KFold\n",
    "#from sklearn.preprocessing import LabelEncoder\n",
    "#from sklearn.pipeline import Pipeline\n",
    "from itertools import zip_longest, count\n",
    "import json \n",
    "import nltk\n",
    "from keras.models import Sequential\n",
    "from keras.layers.core import Dense, Activation, Merge, Dropout, Reshape, RepeatVector, Masking\n",
    "from keras.layers.recurrent import LSTM,GRU\n",
    "from collections import Counter\n",
    "from keras.layers.wrappers import TimeDistributed"
   ]
  },
  {
   "cell_type": "code",
   "execution_count": 3,
   "metadata": {
    "collapsed": false
   },
   "outputs": [],
   "source": [
    "# Load Files into Memory.\n",
    "\n",
    "image_features = numpy.load('smaller_merged_train.npy')\n",
    "with open ('smaller_merged_train.json') as f:\n",
    "    image_captions = json.load(f)\n",
    "\n",
    "# Remove this to end fixed testing with 5 data features\n",
    "image_features = image_features[:5]"
   ]
  },
  {
   "cell_type": "code",
   "execution_count": 4,
   "metadata": {
    "collapsed": false
   },
   "outputs": [],
   "source": [
    "# Generates a list containing all sentences appended with start and termination symbols.\n",
    "# select_list contains the selector indexed sentence.\n",
    "\n",
    "input_list = []\n",
    "select_list = []\n",
    "selector = 0\n",
    "for i in range(len(image_captions)):\n",
    "    sent_temp = []\n",
    "    for j in range(len(image_captions[i][1])):\n",
    "        temp = ['<s>']\n",
    "        temp.extend(image_captions[i][1][j])\n",
    "        temp.append(\"</s>\")        \n",
    "        input_list.append(temp)\n",
    "        if (j==selector):\n",
    "            select_list.append(temp)\n",
    "\n",
    "# Remove this to end fixed testing with 5 sentences\n",
    "select_list = select_list[:5]"
   ]
  },
  {
   "cell_type": "code",
   "execution_count": 5,
   "metadata": {
    "collapsed": false
   },
   "outputs": [
    {
     "name": "stdout",
     "output_type": "stream",
     "text": [
      "Size of this Vocabulary is 46\n",
      "Maxlen for this Data is 18 \n"
     ]
    }
   ],
   "source": [
    "# Generation of nb_samples parameter \n",
    "\n",
    "nb_samples = len(select_list)\n",
    "\n",
    "# Generation of Dictionary and vocab_size parameter\n",
    "\n",
    "word_dict = []\n",
    "\n",
    "for i in range(len(select_list)):\n",
    "    for j in range(len(select_list[i])):\n",
    "        if (select_list[i][j] not in word_dict):\n",
    "            word_dict.append(select_list[i][j])\n",
    "\n",
    "# Vocab size increased by 1 to avoid 0 as an integer label.\n",
    "\n",
    "vocab_size = len(word_dict) + 1\n",
    "\n",
    "print(\"Size of this Vocabulary is %r\" %vocab_size) \n",
    "\n",
    "#Generation of MAXLEN Parameter            \n",
    "\n",
    "MAXLEN = 0\n",
    "\n",
    "for i in range(len(select_list)):\n",
    "    if (len(select_list[i])>MAXLEN):\n",
    "        MAXLEN = len(select_list[i])\n",
    "\n",
    "print(\"Maxlen for this Data is %r \"%MAXLEN)            \n"
   ]
  },
  {
   "cell_type": "code",
   "execution_count": 6,
   "metadata": {
    "collapsed": false
   },
   "outputs": [],
   "source": [
    "char_labels = {ch:i for i, ch in enumerate(word_dict)}\n",
    "\n",
    "labels_char = {i:ch for i, ch in enumerate(word_dict)}"
   ]
  },
  {
   "cell_type": "code",
   "execution_count": 7,
   "metadata": {
    "collapsed": false
   },
   "outputs": [],
   "source": [
    "# Generate Input and Output Streams\n",
    "\n",
    "x_train = []\n",
    "y_train = []\n",
    "\n",
    "for i in range(len(select_list)):\n",
    "    x_train.append(select_list[i][:-1])\n",
    "    y_train.append(select_list[i][1:])\n",
    "\n",
    "x_train = numpy.asarray(x_train)\n",
    "\n",
    "\n",
    "#Convert Streams to their Integer valued counterparts\n",
    "\n",
    "for i in range(len(x_train)):\n",
    "    for j in range(len(x_train[i])):\n",
    "        x_train[i][j] = char_labels[x_train[i][j]] + 1\n",
    "        \n",
    "x_train = numpy.asarray(x_train)\n",
    "\n",
    "\n",
    "x_train = sequence.pad_sequences(x_train,maxlen = MAXLEN, padding = 'post')\n",
    "\n",
    "        \n",
    "for i in range(len(y_train)):\n",
    "    for j in range(len(y_train[i])):\n",
    "        y_train[i][j] = char_labels[y_train[i][j]]\n",
    "        \n",
    "y_train = sequence.pad_sequences(y_train,maxlen = MAXLEN, padding = 'post')\n",
    "\n",
    "# Convert Outputs to One-Hot form\n",
    "\n",
    "y_out = numpy.zeros((nb_samples,MAXLEN,vocab_size))\n",
    "\n",
    "for i in range(len(y_train)):\n",
    "    for j in range(len(y_train[i])):\n",
    "        y_out[i][j][y_train[i][j]] = 1\n",
    "\n",
    "y_train = y_out\n",
    "\n"
   ]
  },
  {
   "cell_type": "code",
   "execution_count": 23,
   "metadata": {
    "collapsed": false
   },
   "outputs": [],
   "source": [
    "num_hidden_units_mlp = 1024\n",
    "image_model = Sequential()\n",
    "image_model.add(Dense(128,input_dim = 4096))\n",
    "\n",
    "language_model = Sequential()\n",
    "language_model.add(Embedding(vocab_size, 256, input_length=MAXLEN))\n",
    "#language_model.add(Masking(mask_value = 0.))\n",
    "language_model.add(GRU(output_dim=128, return_sequences=True))\n",
    "language_model.add(TimeDistributed(Dense(128)))\n",
    "\n",
    "image_model.add(RepeatVector(MAXLEN))\n",
    "\n",
    "model = Sequential()\n",
    "model.add(Merge([image_model, language_model], mode='concat', concat_axis=-1))\n",
    "\n",
    "model.add(GRU(256, return_sequences=True))\n",
    "\n",
    "model.add(TimeDistributed(Dense(vocab_size)))\n",
    "model.add(Activation('softmax'))\n",
    "\n",
    "model.compile(loss='categorical_crossentropy', optimizer='rmsprop')\n"
   ]
  },
  {
   "cell_type": "code",
   "execution_count": 24,
   "metadata": {
    "collapsed": true
   },
   "outputs": [],
   "source": [
    "# Keep best weights and save callback history\n",
    "\n",
    "# define the checkpoint\n",
    "\n",
    "filepath=\"weights-improvement-{epoch:02d}-{loss:.4f}.hdf5\"\n",
    "checkpoint = ModelCheckpoint(filepath, monitor='loss', verbose=1, save_best_only=True, mode='min')\n",
    "callbacks_list = [checkpoint]"
   ]
  },
  {
   "cell_type": "code",
   "execution_count": 25,
   "metadata": {
    "collapsed": false
   },
   "outputs": [
    {
     "name": "stdout",
     "output_type": "stream",
     "text": [
      "Epoch 1/40\n",
      "5/5 [==============================] - 0s - loss: 3.8115     \n",
      "Epoch 2/40\n",
      "5/5 [==============================] - 0s - loss: 3.2059     \n",
      "Epoch 3/40\n",
      "5/5 [==============================] - 0s - loss: 2.8033     \n",
      "Epoch 4/40\n",
      "5/5 [==============================] - 0s - loss: 2.7467     \n",
      "Epoch 5/40\n",
      "5/5 [==============================] - 0s - loss: 2.5054     \n",
      "Epoch 6/40\n",
      "5/5 [==============================] - 0s - loss: 2.3785     \n",
      "Epoch 7/40\n",
      "5/5 [==============================] - 0s - loss: 2.2453     \n",
      "Epoch 8/40\n",
      "5/5 [==============================] - 0s - loss: 2.1632     \n",
      "Epoch 9/40\n",
      "5/5 [==============================] - 0s - loss: 2.1643     \n",
      "Epoch 10/40\n",
      "5/5 [==============================] - 0s - loss: 2.1084     \n",
      "Epoch 11/40\n",
      "5/5 [==============================] - 0s - loss: 1.9688     \n",
      "Epoch 12/40\n",
      "5/5 [==============================] - 0s - loss: 1.9449     \n",
      "Epoch 13/40\n",
      "5/5 [==============================] - 0s - loss: 2.0305     \n",
      "Epoch 14/40\n",
      "5/5 [==============================] - 0s - loss: 1.8945     \n",
      "Epoch 15/40\n",
      "5/5 [==============================] - 0s - loss: 1.8682     \n",
      "Epoch 16/40\n",
      "5/5 [==============================] - 0s - loss: 1.8003     \n",
      "Epoch 17/40\n",
      "5/5 [==============================] - 0s - loss: 1.7803     \n",
      "Epoch 18/40\n",
      "5/5 [==============================] - 0s - loss: 1.8390     \n",
      "Epoch 19/40\n",
      "5/5 [==============================] - 0s - loss: 1.8125     \n",
      "Epoch 20/40\n",
      "5/5 [==============================] - 0s - loss: 1.8010     \n",
      "Epoch 21/40\n",
      "5/5 [==============================] - 0s - loss: 1.6951     \n",
      "Epoch 22/40\n",
      "5/5 [==============================] - 0s - loss: 1.6795     \n",
      "Epoch 23/40\n",
      "5/5 [==============================] - 0s - loss: 1.6937     \n",
      "Epoch 24/40\n",
      "5/5 [==============================] - 0s - loss: 1.6707     \n",
      "Epoch 25/40\n",
      "5/5 [==============================] - 0s - loss: 1.6482     \n",
      "Epoch 26/40\n",
      "5/5 [==============================] - 0s - loss: 1.6737     \n",
      "Epoch 27/40\n",
      "5/5 [==============================] - 0s - loss: 1.6957     \n",
      "Epoch 28/40\n",
      "5/5 [==============================] - 0s - loss: 1.6288     \n",
      "Epoch 29/40\n",
      "5/5 [==============================] - 0s - loss: 1.6028     \n",
      "Epoch 30/40\n",
      "5/5 [==============================] - 0s - loss: 1.5864     \n",
      "Epoch 31/40\n",
      "5/5 [==============================] - 0s - loss: 1.5273     \n",
      "Epoch 32/40\n",
      "5/5 [==============================] - 0s - loss: 1.5674     \n",
      "Epoch 33/40\n",
      "5/5 [==============================] - 0s - loss: 1.5628     \n",
      "Epoch 34/40\n",
      "5/5 [==============================] - 0s - loss: 1.5949     \n",
      "Epoch 35/40\n",
      "5/5 [==============================] - 0s - loss: 1.5031     \n",
      "Epoch 36/40\n",
      "5/5 [==============================] - 0s - loss: 1.5291     \n",
      "Epoch 37/40\n",
      "5/5 [==============================] - 0s - loss: 1.4494     \n",
      "Epoch 38/40\n",
      "5/5 [==============================] - 0s - loss: 1.4700     \n",
      "Epoch 39/40\n",
      "5/5 [==============================] - 0s - loss: 1.5011     \n",
      "Epoch 40/40\n",
      "5/5 [==============================] - 0s - loss: 1.5188     \n"
     ]
    },
    {
     "data": {
      "text/plain": [
       "<keras.callbacks.History at 0x7efe4c86bb70>"
      ]
     },
     "execution_count": 25,
     "metadata": {},
     "output_type": "execute_result"
    }
   ],
   "source": [
    "model.fit([image_features, x_train], y_train, batch_size=1, nb_epoch=40)"
   ]
  },
  {
   "cell_type": "code",
   "execution_count": 32,
   "metadata": {
    "collapsed": false
   },
   "outputs": [
    {
     "name": "stdout",
     "output_type": "stream",
     "text": [
      "[[1 2 3 4 5 6 7 8 9 0 0 0 0 0 0 0 0 0]]\n",
      "[[ 0.          0.          0.         ...,  0.          0.          2.10547662]]\n",
      "1/1 [==============================] - 0s\n",
      "[[1 1 1 7 6 8 8 9 0 0 0 0 0 0 0 0 0 0]]\n",
      "['Two', 'Two', 'Two', 'playing', 'room', 'Nintendo', 'Nintendo', '</s>', '<s>', '<s>', '<s>', '<s>', '<s>', '<s>', '<s>', '<s>', '<s>', '<s>']\n"
     ]
    }
   ],
   "source": [
    "x_test = x_train[:1]\n",
    "images_test = image_features[:1]\n",
    "\n",
    "print (x_test)\n",
    "print (images_test)\n",
    "prediction = model.predict_classes([images_test,x_test])\n",
    "print (prediction)\n",
    "\n",
    "sentence = []\n",
    "for i in prediction:\n",
    "    for j in i:\n",
    "        sentence.append(labels_char[j])\n",
    "\n",
    "print (sentence)\n"
   ]
  },
  {
   "cell_type": "code",
   "execution_count": null,
   "metadata": {
    "collapsed": true
   },
   "outputs": [],
   "source": []
  }
 ],
 "metadata": {
  "anaconda-cloud": {},
  "kernelspec": {
   "display_name": "Python [conda root]",
   "language": "python",
   "name": "conda-root-py"
  },
  "language_info": {
   "codemirror_mode": {
    "name": "ipython",
    "version": 3
   },
   "file_extension": ".py",
   "mimetype": "text/x-python",
   "name": "python",
   "nbconvert_exporter": "python",
   "pygments_lexer": "ipython3",
   "version": "3.5.2"
  }
 },
 "nbformat": 4,
 "nbformat_minor": 1
}
